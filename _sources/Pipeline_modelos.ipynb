{
 "cells": [
  {
   "cell_type": "markdown",
   "id": "c1f580ea",
   "metadata": {},
   "source": [
    "# **Modelos con Pipelines**"
   ]
  }
 ],
 "metadata": {
  "language_info": {
   "name": "python"
  }
 },
 "nbformat": 4,
 "nbformat_minor": 5
}
