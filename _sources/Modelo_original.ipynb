{
 "cells": [
  {
   "cell_type": "markdown",
   "id": "61a25686",
   "metadata": {},
   "source": [
    "# **Modelo Original**"
   ]
  }
 ],
 "metadata": {
  "language_info": {
   "name": "python"
  }
 },
 "nbformat": 4,
 "nbformat_minor": 5
}
